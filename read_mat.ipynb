{
 "cells": [
  {
   "cell_type": "code",
   "execution_count": 1,
   "metadata": {},
   "outputs": [],
   "source": [
    "import numpy as np\n",
    "from scipy.io import loadmat\n"
   ]
  },
  {
   "cell_type": "code",
   "execution_count": 19,
   "metadata": {},
   "outputs": [
    {
     "ename": "NameError",
     "evalue": "name 'data_list' is not defined",
     "output_type": "error",
     "traceback": [
      "\u001b[1;31m---------------------------------------------------------------------------\u001b[0m",
      "\u001b[1;31mNameError\u001b[0m                                 Traceback (most recent call last)",
      "\u001b[1;32md:\\OneDrive - 조선대학교[Chosun University]\\Shared\\Colab_Dr_Eraj\\VGG16-20231004T014549Z-001\\VGG16\\LeNet_L2\\read_mat.ipynb Cell 2\u001b[0m line \u001b[0;36m4\n\u001b[0;32m      <a href='vscode-notebook-cell:/d%3A/OneDrive%20-%20%EC%A1%B0%EC%84%A0%EB%8C%80%ED%95%99%EA%B5%90%5BChosun%20University%5D/Shared/Colab_Dr_Eraj/VGG16-20231004T014549Z-001/VGG16/LeNet_L2/read_mat.ipynb#W1sZmlsZQ%3D%3D?line=1'>2</a>\u001b[0m     data \u001b[39m=\u001b[39m loadmat(\u001b[39mf\u001b[39m\u001b[39m'\u001b[39m\u001b[39mW\u001b[39m\u001b[39m{\u001b[39;00mi\u001b[39m}\u001b[39;00m\u001b[39m_L2.mat\u001b[39m\u001b[39m'\u001b[39m)\n\u001b[0;32m      <a href='vscode-notebook-cell:/d%3A/OneDrive%20-%20%EC%A1%B0%EC%84%A0%EB%8C%80%ED%95%99%EA%B5%90%5BChosun%20University%5D/Shared/Colab_Dr_Eraj/VGG16-20231004T014549Z-001/VGG16/LeNet_L2/read_mat.ipynb#W1sZmlsZQ%3D%3D?line=2'>3</a>\u001b[0m     data_array \u001b[39m=\u001b[39m np\u001b[39m.\u001b[39marray(data[\u001b[39mf\u001b[39m\u001b[39m'\u001b[39m\u001b[39mW\u001b[39m\u001b[39m{\u001b[39;00mi\u001b[39m}\u001b[39;00m\u001b[39m_L2\u001b[39m\u001b[39m'\u001b[39m])\n\u001b[1;32m----> <a href='vscode-notebook-cell:/d%3A/OneDrive%20-%20%EC%A1%B0%EC%84%A0%EB%8C%80%ED%95%99%EA%B5%90%5BChosun%20University%5D/Shared/Colab_Dr_Eraj/VGG16-20231004T014549Z-001/VGG16/LeNet_L2/read_mat.ipynb#W1sZmlsZQ%3D%3D?line=3'>4</a>\u001b[0m     data_list\u001b[39m.\u001b[39mappend(data_array)\n\u001b[0;32m      <a href='vscode-notebook-cell:/d%3A/OneDrive%20-%20%EC%A1%B0%EC%84%A0%EB%8C%80%ED%95%99%EA%B5%90%5BChosun%20University%5D/Shared/Colab_Dr_Eraj/VGG16-20231004T014549Z-001/VGG16/LeNet_L2/read_mat.ipynb#W1sZmlsZQ%3D%3D?line=4'>5</a>\u001b[0m x \u001b[39m=\u001b[39m data_list[\u001b[39m0\u001b[39m]\u001b[39m.\u001b[39mreshape(\u001b[39m-\u001b[39m\u001b[39m1\u001b[39m)\n\u001b[0;32m      <a href='vscode-notebook-cell:/d%3A/OneDrive%20-%20%EC%A1%B0%EC%84%A0%EB%8C%80%ED%95%99%EA%B5%90%5BChosun%20University%5D/Shared/Colab_Dr_Eraj/VGG16-20231004T014549Z-001/VGG16/LeNet_L2/read_mat.ipynb#W1sZmlsZQ%3D%3D?line=5'>6</a>\u001b[0m \u001b[39mprint\u001b[39m(x\u001b[39m.\u001b[39mshape)\n",
      "\u001b[1;31mNameError\u001b[0m: name 'data_list' is not defined"
     ]
    }
   ],
   "source": [
    "x = []\n",
    "data_list = []\n",
    "for i in range (0,16):\n",
    "    data = loadmat(f'W{i}_L2.mat')\n",
    "    data_array = np.array(data[f'W{i}_L2'])\n",
    "    data_list.append(data_array)\n",
    "x = data_list[0].reshape(-1)\n",
    "print(x.shape)"
   ]
  },
  {
   "cell_type": "code",
   "execution_count": 11,
   "metadata": {},
   "outputs": [
    {
     "name": "stdout",
     "output_type": "stream",
     "text": [
      "(6, 5, 5)\n"
     ]
    }
   ],
   "source": [
    "# print(f.keys())\n",
    "f1 = f['W0_L2']\n",
    "print(f1.shape)"
   ]
  },
  {
   "cell_type": "code",
   "execution_count": 18,
   "metadata": {},
   "outputs": [
    {
     "name": "stdout",
     "output_type": "stream",
     "text": [
      "[[ 0.05395135 -0.05001511  0.01657931 -0.07245898 -0.02574239]\n",
      " [ 0.03104182  0.04049673 -0.0347704   0.03138778 -0.0181501 ]\n",
      " [ 0.01666885  0.08707914  0.09922986 -0.04434356  0.04332601]\n",
      " [ 0.07949588  0.02216134  0.04939079  0.11875132  0.13360672]\n",
      " [ 0.04735415 -0.06454994  0.03659964 -0.02437836 -0.09229976]]\n",
      "0.05395135\n"
     ]
    }
   ],
   "source": [
    "print(f1[1])\n",
    "print(f1[1][0][0])"
   ]
  },
  {
   "cell_type": "code",
   "execution_count": 16,
   "metadata": {},
   "outputs": [
    {
     "name": "stdout",
     "output_type": "stream",
     "text": [
      "0.00010001101000111011100011\n"
     ]
    }
   ],
   "source": [
    "from binary_fractions import TwosComplement\n",
    "x = TwosComplement(float(f1[0][0][0]))\n",
    "print(x)"
   ]
  }
 ],
 "metadata": {
  "kernelspec": {
   "display_name": "Python 3",
   "language": "python",
   "name": "python3"
  },
  "language_info": {
   "codemirror_mode": {
    "name": "ipython",
    "version": 3
   },
   "file_extension": ".py",
   "mimetype": "text/x-python",
   "name": "python",
   "nbconvert_exporter": "python",
   "pygments_lexer": "ipython3",
   "version": "3.8.10"
  }
 },
 "nbformat": 4,
 "nbformat_minor": 2
}
