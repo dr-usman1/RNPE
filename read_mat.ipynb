{
 "cells": [
  {
   "cell_type": "code",
   "execution_count": 13,
   "metadata": {},
   "outputs": [],
   "source": [
    "import numpy as np\n",
    "from scipy.io import loadmat\n",
    "data = loadmat(f'output_fm_pool0.mat')\n",
    "from binary_fractions import TwosComplement"
   ]
  },
  {
   "cell_type": "code",
   "execution_count": 4,
   "metadata": {},
   "outputs": [
    {
     "name": "stdout",
     "output_type": "stream",
     "text": [
      "dict_keys(['__header__', '__version__', '__globals__', 'output_fm_pool_0'])\n"
     ]
    }
   ],
   "source": [
    "print(data.keys())"
   ]
  },
  {
   "cell_type": "code",
   "execution_count": 6,
   "metadata": {},
   "outputs": [],
   "source": [
    "x = []\n",
    "data_list = []\n",
    "for i in range (0, 10):\n",
    "    data = loadmat(f'output_fm_pool{i}.mat')\n",
    "    data_array = np.array(data[f'output_fm_pool_{i}'])\n",
    "    data_list.append(data_array)\n",
    "# x = data_list[0].reshape(-1)\n",
    "# print(x.shape)"
   ]
  },
  {
   "cell_type": "code",
   "execution_count": 14,
   "metadata": {},
   "outputs": [
    {
     "name": "stdout",
     "output_type": "stream",
     "text": [
      "(196,)\n",
      "(196,)\n",
      "(196,)\n",
      "(196,)\n",
      "(196,)\n",
      "(196,)\n",
      "(196,)\n",
      "(196,)\n",
      "(196,)\n",
      "(196,)\n"
     ]
    }
   ],
   "source": [
    "for i in range (0, 10):\n",
    "    print(data_list[i].reshape(-1).shape)\n",
    "# print(data_list[9].shape)"
   ]
  },
  {
   "cell_type": "code",
   "execution_count": 11,
   "metadata": {},
   "outputs": [
    {
     "name": "stdout",
     "output_type": "stream",
     "text": [
      "(6, 5, 5)\n"
     ]
    }
   ],
   "source": [
    "# print(f.keys())\n",
    "f1 = f['W0_L2']\n",
    "print(f1.shape)"
   ]
  },
  {
   "cell_type": "code",
   "execution_count": 18,
   "metadata": {},
   "outputs": [
    {
     "name": "stdout",
     "output_type": "stream",
     "text": [
      "[[ 0.05395135 -0.05001511  0.01657931 -0.07245898 -0.02574239]\n",
      " [ 0.03104182  0.04049673 -0.0347704   0.03138778 -0.0181501 ]\n",
      " [ 0.01666885  0.08707914  0.09922986 -0.04434356  0.04332601]\n",
      " [ 0.07949588  0.02216134  0.04939079  0.11875132  0.13360672]\n",
      " [ 0.04735415 -0.06454994  0.03659964 -0.02437836 -0.09229976]]\n",
      "0.05395135\n"
     ]
    }
   ],
   "source": [
    "print(f1[1])\n",
    "print(f1[1][0][0])"
   ]
  },
  {
   "cell_type": "code",
   "execution_count": 16,
   "metadata": {},
   "outputs": [
    {
     "name": "stdout",
     "output_type": "stream",
     "text": [
      "0.00010001101000111011100011\n"
     ]
    }
   ],
   "source": [
    "from binary_fractions import TwosComplement\n",
    "x = TwosComplement(float(f1[0][0][0]))\n",
    "print(x)"
   ]
  }
 ],
 "metadata": {
  "kernelspec": {
   "display_name": "Python 3",
   "language": "python",
   "name": "python3"
  },
  "language_info": {
   "codemirror_mode": {
    "name": "ipython",
    "version": 3
   },
   "file_extension": ".py",
   "mimetype": "text/x-python",
   "name": "python",
   "nbconvert_exporter": "python",
   "pygments_lexer": "ipython3",
   "version": "3.8.10"
  }
 },
 "nbformat": 4,
 "nbformat_minor": 2
}
