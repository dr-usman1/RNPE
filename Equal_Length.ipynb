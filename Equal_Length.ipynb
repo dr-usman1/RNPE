{
 "cells": [
  {
   "cell_type": "markdown",
   "metadata": {},
   "source": [
    "## Append zeros to Right"
   ]
  },
  {
   "cell_type": "code",
   "execution_count": 30,
   "metadata": {},
   "outputs": [
    {
     "name": "stdout",
     "output_type": "stream",
     "text": [
      "['0000000001100001', '0000000011100010']\n"
     ]
    }
   ],
   "source": [
    "\n",
    "# with open('Test.txt', 'r') as f:\n",
    "#     lines = f.readlines()\n",
    "\n",
    "# # Create a list to store modified lines\n",
    "# modified_lines = []\n",
    "\n",
    "# for line in lines:\n",
    "#     line = line.strip()  # Remove leading/trailing whitespace\n",
    "#     if len(line) < 16:\n",
    "#         # Append '0's to make it 16 characters long\n",
    "#         line = '0' * (16 - len(line)) + line\n",
    "#     modified_lines.append(line)\n",
    "\n",
    "# # Now modified_lines contains the lines with 16-character binary numbers\n",
    "# print(modified_lines)\n",
    "\n"
   ]
  },
  {
   "cell_type": "code",
   "execution_count": 32,
   "metadata": {},
   "outputs": [
    {
     "name": "stdout",
     "output_type": "stream",
     "text": [
      "0110000100000000 1110001000000000\n"
     ]
    }
   ],
   "source": [
    "# with open('Test.txt', 'r') as f:\n",
    "#     lines = f.readlines()\n",
    "\n",
    "# # Create a list to store modified lines\n",
    "# modified_lines = []\n",
    "\n",
    "# for line in lines:\n",
    "#     line = line.strip()  # Remove leading/trailing whitespace\n",
    "#     if len(line) < 16:\n",
    "#         # Append '0's to the right to make it 16 characters long\n",
    "#         line = line + '0' * (16 - len(line))\n",
    "#     modified_lines.append(line)\n",
    "\n",
    "# # Now modified_lines contains the lines with 16-character binary numbers with '0's appended to the right\n",
    "# print(*modified_lines)"
   ]
  },
  {
   "cell_type": "code",
   "execution_count": 33,
   "metadata": {},
   "outputs": [],
   "source": [
    "with open('Test.txt', 'r') as f:\n",
    "    lines = f.readlines()\n",
    "\n",
    "# Create a list to store modified lines\n",
    "modified_lines = []\n",
    "\n",
    "for line in lines:\n",
    "    line = line.strip()  # Remove leading/trailing whitespace\n",
    "    if len(line) < 16:\n",
    "        # Append '0's to the right to make it 16 characters long\n",
    "        line = line + '0' * (16 - len(line))\n",
    "    modified_lines.append(line)\n",
    "\n",
    "# Save the modified lines in a new file\n",
    "with open('Modified.txt', 'w') as new_file:\n",
    "    for line in modified_lines:\n",
    "        new_file.write(line + '\\n')\n",
    "\n",
    "# The modified lines are saved in 'Modified.txt' with each line separated by a newline\n"
   ]
  },
  {
   "cell_type": "code",
   "execution_count": 24,
   "metadata": {},
   "outputs": [
    {
     "name": "stdout",
     "output_type": "stream",
     "text": [
      "01100001\n",
      "\n",
      "11100010\n"
     ]
    }
   ],
   "source": [
    "for items in c:\n",
    "    items.ljust(16,'0')\n",
    "    print(items)"
   ]
  },
  {
   "cell_type": "markdown",
   "metadata": {},
   "source": [
    "# VGG Rjust\n"
   ]
  },
  {
   "cell_type": "code",
   "execution_count": 1,
   "metadata": {},
   "outputs": [],
   "source": [
    "# Loop through files numbered from 0 to 19\n",
    "for i in range(0,10):  # Assuming you have 20 files\n",
    "    input_file = 'Intermediate_Data_'+ str(i) + '.txt'  # Construct the input file name\n",
    "\n",
    "    with open(input_file, 'r') as f:\n",
    "        lines = f.readlines()\n",
    "\n",
    "    # Create a list to store modified lines\n",
    "    modified_lines = []\n",
    "\n",
    "    for line in lines:\n",
    "        line = line.strip()  # Remove leading/trailing whitespace\n",
    "        if len(line) < 16:\n",
    "            # Append '0's to the right to make it 16 characters long\n",
    "            line = line + '0' * (16 - len(line))\n",
    "        modified_lines.append(line)\n",
    "\n",
    "    # Construct the output file name by adding \"_modified\" to the input file name\n",
    "    output_file = 'Intermediate_Data_VGG_rjust'+str(i) + '.txt'\n",
    "\n",
    "    # Save the modified lines in the output file with each line separated by a newline\n",
    "    with open(output_file, 'w') as new_file:\n",
    "        for line in modified_lines:\n",
    "            new_file.write(line + '\\n')\n",
    "\n",
    "# The modified lines are saved in corresponding output files with each line separated by a newline\n"
   ]
  },
  {
   "cell_type": "markdown",
   "metadata": {},
   "source": [
    "# VGG_Ljust"
   ]
  },
  {
   "cell_type": "code",
   "execution_count": 2,
   "metadata": {},
   "outputs": [],
   "source": [
    "# Loop through files numbered from 0 to 19\n",
    "for i in range(0,10):  # Assuming you have 20 files\n",
    "    input_file = 'Intermediate_Data_'+ str(i) + '.txt'  # Construct the input file name\n",
    "\n",
    "    with open(input_file, 'r') as f:\n",
    "        lines = f.readlines()\n",
    "\n",
    "    # Create a list to store modified lines\n",
    "    modified_lines = []\n",
    "\n",
    "    for line in lines:\n",
    "        line = line.strip()  # Remove leading/trailing whitespace\n",
    "        if len(line) < 16:\n",
    "            # Append '0's to the right to make it 16 characters long\n",
    "            line = '0'* (16 - len(line))+ line \n",
    "        modified_lines.append(line)\n",
    "\n",
    "    # Construct the output file name by adding \"_modified\" to the input file name\n",
    "    output_file = 'Intermediate_Data_VGG_ljust'+str(i) + '.txt'\n",
    "\n",
    "    # Save the modified lines in the output file with each line separated by a newline\n",
    "    with open(output_file, 'w') as new_file:\n",
    "        for line in modified_lines:\n",
    "            new_file.write(line + '\\n')\n",
    "\n",
    "# The modified lines are saved in corresponding output files with each line separated by a newline\n"
   ]
  },
  {
   "cell_type": "markdown",
   "metadata": {},
   "source": [
    "# ResNet_Rjust"
   ]
  },
  {
   "cell_type": "code",
   "execution_count": 3,
   "metadata": {},
   "outputs": [],
   "source": [
    "# Loop through files numbered from 0 to 19\n",
    "for i in range(10,20):  # Assuming you have 20 files\n",
    "    input_file = 'Intermediate_Data_'+ str(i) + '.txt'  # Construct the input file name\n",
    "\n",
    "    with open(input_file, 'r') as f:\n",
    "        lines = f.readlines()\n",
    "\n",
    "    # Create a list to store modified lines\n",
    "    modified_lines = []\n",
    "\n",
    "    for line in lines:\n",
    "        line = line.strip()  # Remove leading/trailing whitespace\n",
    "        if len(line) < 16:\n",
    "            # Append '0's to the right to make it 16 characters long\n",
    "            line = line + '0' * (16 - len(line))\n",
    "        modified_lines.append(line)\n",
    "\n",
    "    # Construct the output file name by adding \"_modified\" to the input file name\n",
    "    output_file = 'Intermediate_Data_ResNet_rjust'+str(i) + '.txt'\n",
    "\n",
    "    # Save the modified lines in the output file with each line separated by a newline\n",
    "    with open(output_file, 'w') as new_file:\n",
    "        for line in modified_lines:\n",
    "            new_file.write(line + '\\n')\n",
    "\n",
    "# The modified lines are saved in corresponding output files with each line separated by a newline"
   ]
  },
  {
   "cell_type": "markdown",
   "metadata": {},
   "source": [
    "# ResNet_Ljust"
   ]
  },
  {
   "cell_type": "code",
   "execution_count": 4,
   "metadata": {},
   "outputs": [],
   "source": [
    "# Loop through files numbered from 0 to 19\n",
    "for i in range(10,20):  # Assuming you have 20 files\n",
    "    input_file = 'Intermediate_Data_'+ str(i) + '.txt'  # Construct the input file name\n",
    "\n",
    "    with open(input_file, 'r') as f:\n",
    "        lines = f.readlines()\n",
    "\n",
    "    # Create a list to store modified lines\n",
    "    modified_lines = []\n",
    "\n",
    "    for line in lines:\n",
    "        line = line.strip()  # Remove leading/trailing whitespace\n",
    "        if len(line) < 16:\n",
    "            # Append '0's to the right to make it 16 characters long\n",
    "            line = '0'* (16 - len(line))+ line \n",
    "        modified_lines.append(line)\n",
    "\n",
    "    # Construct the output file name by adding \"_modified\" to the input file name\n",
    "    output_file = 'Intermediate_Data_ResNet_ljust'+str(i) + '.txt'\n",
    "\n",
    "    # Save the modified lines in the output file with each line separated by a newline\n",
    "    with open(output_file, 'w') as new_file:\n",
    "        for line in modified_lines:\n",
    "            new_file.write(line + '\\n')\n",
    "\n",
    "# The modified lines are saved in corresponding output files with each line separated by a newline"
   ]
  }
 ],
 "metadata": {
  "kernelspec": {
   "display_name": "Python 3",
   "language": "python",
   "name": "python3"
  },
  "language_info": {
   "codemirror_mode": {
    "name": "ipython",
    "version": 3
   },
   "file_extension": ".py",
   "mimetype": "text/x-python",
   "name": "python",
   "nbconvert_exporter": "python",
   "pygments_lexer": "ipython3",
   "version": "3.8.10"
  },
  "orig_nbformat": 4
 },
 "nbformat": 4,
 "nbformat_minor": 2
}
